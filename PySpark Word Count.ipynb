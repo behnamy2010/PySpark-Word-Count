{
 "cells": [
  {
   "cell_type": "code",
   "execution_count": 1,
   "id": "51057b17-fac3-452e-b667-9fa254fa52c3",
   "metadata": {},
   "outputs": [],
   "source": [
    "from pyspark.sql import SparkSession\n",
    "from pyspark.conf import SparkConf"
   ]
  },
  {
   "cell_type": "code",
   "execution_count": 2,
   "id": "ca6f2fbf-abd6-4160-a24d-8d49768a96cc",
   "metadata": {},
   "outputs": [],
   "source": [
    "spark=SparkSession.builder\\\n",
    "    .master(\"local[*]\")\\\n",
    "    .appName(\"WordCount\")\\\n",
    "    .getOrCreate()"
   ]
  },
  {
   "cell_type": "code",
   "execution_count": 3,
   "id": "cf718c9c-ceac-4f98-9901-c08319573b56",
   "metadata": {},
   "outputs": [],
   "source": [
    "sc=spark.sparkContext"
   ]
  },
  {
   "cell_type": "code",
   "execution_count": 4,
   "id": "a5d1fd05-ba59-42bc-bb97-8c70baaf8728",
   "metadata": {},
   "outputs": [],
   "source": [
    "JaneAusten=sc.textFile(\"JaneAusten.txt\")"
   ]
  },
  {
   "cell_type": "code",
   "execution_count": 5,
   "id": "9f624a3a-1f39-464c-825b-69fa5608c574",
   "metadata": {},
   "outputs": [
    {
     "data": {
      "text/plain": [
       "['',\n",
       " \"Project Gutenberg's The Complete Works of Jane Austen, by Jane Austen\",\n",
       " '',\n",
       " 'This eBook is for the use of anyone anywhere at no cost and with',\n",
       " 'almost no restrictions whatsoever.  You may copy it, give it away or',\n",
       " 're-use it under the terms of the Project Gutenberg License included',\n",
       " 'with this eBook or online at www.gutenberg.org',\n",
       " '',\n",
       " '',\n",
       " 'Title: The Complete Project Gutenberg Works of Jane Austen']"
      ]
     },
     "execution_count": 5,
     "metadata": {},
     "output_type": "execute_result"
    }
   ],
   "source": [
    "JaneAusten.take(10)"
   ]
  },
  {
   "cell_type": "code",
   "execution_count": 6,
   "id": "8a97e71c-c07f-4eff-a978-72dd097d7a01",
   "metadata": {},
   "outputs": [],
   "source": [
    "import string\n",
    "def lower_punc(x):\n",
    "    x = x.lower()\n",
    "    x=x.translate(str.maketrans('', '', string.punctuation))\n",
    "    return x"
   ]
  },
  {
   "cell_type": "code",
   "execution_count": 7,
   "id": "866d4643-71b0-4b09-b208-e5d7144e7e81",
   "metadata": {},
   "outputs": [
    {
     "data": {
      "text/plain": [
       "['',\n",
       " 'project gutenbergs the complete works of jane austen by jane austen',\n",
       " '',\n",
       " 'this ebook is for the use of anyone anywhere at no cost and with',\n",
       " 'almost no restrictions whatsoever  you may copy it give it away or',\n",
       " 'reuse it under the terms of the project gutenberg license included',\n",
       " 'with this ebook or online at wwwgutenbergorg',\n",
       " '',\n",
       " '',\n",
       " 'title the complete project gutenberg works of jane austen']"
      ]
     },
     "execution_count": 7,
     "metadata": {},
     "output_type": "execute_result"
    }
   ],
   "source": [
    "JaneAusten = JaneAusten.map(lower_punc)\n",
    "JaneAusten.take(10)"
   ]
  },
  {
   "cell_type": "code",
   "execution_count": 8,
   "id": "ebce6eb3-800e-4e57-bb3d-8c9b27523bd7",
   "metadata": {},
   "outputs": [],
   "source": [
    "# We use split function to separate the words in all lines ."
   ]
  },
  {
   "cell_type": "code",
   "execution_count": 9,
   "id": "e34ba195-6fda-40b1-9f0a-4b3acb641ea4",
   "metadata": {},
   "outputs": [
    {
     "data": {
      "text/plain": [
       "['',\n",
       " 'project',\n",
       " 'gutenbergs',\n",
       " 'the',\n",
       " 'complete',\n",
       " 'works',\n",
       " 'of',\n",
       " 'jane',\n",
       " 'austen',\n",
       " 'by']"
      ]
     },
     "execution_count": 9,
     "metadata": {},
     "output_type": "execute_result"
    }
   ],
   "source": [
    "JaneAusten=JaneAusten.flatMap(lambda satir: satir.split(\" \"))\n",
    "JaneAusten.take(10)"
   ]
  },
  {
   "cell_type": "code",
   "execution_count": 10,
   "id": "eb1e576f-5d22-43d4-9e09-2720198fe399",
   "metadata": {},
   "outputs": [
    {
     "data": {
      "text/plain": [
       "['project',\n",
       " 'gutenbergs',\n",
       " 'the',\n",
       " 'complete',\n",
       " 'works',\n",
       " 'of',\n",
       " 'jane',\n",
       " 'austen',\n",
       " 'by',\n",
       " 'jane']"
      ]
     },
     "execution_count": 10,
     "metadata": {},
     "output_type": "execute_result"
    }
   ],
   "source": [
    "JaneAusten = JaneAusten.filter(lambda x:x!='')\n",
    "JaneAusten.take(10)"
   ]
  },
  {
   "cell_type": "code",
   "execution_count": 11,
   "id": "54955b0b-297a-4fb1-97b8-7c5c4133a9fe",
   "metadata": {},
   "outputs": [
    {
     "data": {
      "text/plain": [
       "780134"
      ]
     },
     "execution_count": 11,
     "metadata": {},
     "output_type": "execute_result"
    }
   ],
   "source": [
    "JaneAusten.count()"
   ]
  },
  {
   "cell_type": "code",
   "execution_count": 12,
   "id": "05f2ce57-2549-4b61-8105-cfa19a526ab9",
   "metadata": {},
   "outputs": [
    {
     "data": {
      "text/plain": [
       "[('project', 1),\n",
       " ('gutenbergs', 1),\n",
       " ('the', 1),\n",
       " ('complete', 1),\n",
       " ('works', 1),\n",
       " ('of', 1),\n",
       " ('jane', 1),\n",
       " ('austen', 1),\n",
       " ('by', 1),\n",
       " ('jane', 1)]"
      ]
     },
     "execution_count": 12,
     "metadata": {},
     "output_type": "execute_result"
    }
   ],
   "source": [
    "JaneAusten_count=JaneAusten.map(lambda  word:(word,1))\n",
    "JaneAusten_count.take(10)"
   ]
  },
  {
   "cell_type": "code",
   "execution_count": 13,
   "id": "6df7a54f-0410-409a-bfd5-bc42ce381bf8",
   "metadata": {},
   "outputs": [
    {
     "data": {
      "text/plain": [
       "[('project', 103),\n",
       " ('of', 23104),\n",
       " ('jane', 557),\n",
       " ('this', 2748),\n",
       " ('ebook', 10),\n",
       " ('is', 5350),\n",
       " ('use', 184),\n",
       " ('anyone', 45),\n",
       " ('anywhere', 40),\n",
       " ('at', 5102)]"
      ]
     },
     "execution_count": 13,
     "metadata": {},
     "output_type": "execute_result"
    }
   ],
   "source": [
    "JaneAusten_count_RBK=JaneAusten_count.reduceByKey(lambda x,y:(x+y))\n",
    "JaneAusten_count_RBK.take(10)"
   ]
  },
  {
   "cell_type": "code",
   "execution_count": 14,
   "id": "cd8cb8b8-b7d9-4715-b05d-c82eda62dcb0",
   "metadata": {},
   "outputs": [
    {
     "data": {
      "text/plain": [
       "20309"
      ]
     },
     "execution_count": 14,
     "metadata": {},
     "output_type": "execute_result"
    }
   ],
   "source": [
    "JaneAusten_count_RBK.count()"
   ]
  },
  {
   "cell_type": "code",
   "execution_count": 15,
   "id": "d78a34d1-7142-4e12-aaad-768913369503",
   "metadata": {},
   "outputs": [
    {
     "data": {
      "text/plain": [
       "[('the', 28485),\n",
       " ('to', 25945),\n",
       " ('and', 23614),\n",
       " ('of', 23104),\n",
       " ('a', 14252),\n",
       " ('her', 13889),\n",
       " ('i', 13344),\n",
       " ('in', 12120),\n",
       " ('was', 11734),\n",
       " ('it', 10579)]"
      ]
     },
     "execution_count": 15,
     "metadata": {},
     "output_type": "execute_result"
    }
   ],
   "source": [
    "JaneAusten_count_RBK.sortBy(lambda x: x[1],ascending=False).take(10)"
   ]
  },
  {
   "cell_type": "code",
   "execution_count": 16,
   "id": "8fe571ec-19b2-460c-983d-1e684aed0fc6",
   "metadata": {},
   "outputs": [],
   "source": [
    "import nltk"
   ]
  },
  {
   "cell_type": "code",
   "execution_count": null,
   "id": "a1373239-5503-46c4-bd7e-63a75960bf4b",
   "metadata": {},
   "outputs": [
    {
     "name": "stderr",
     "output_type": "stream",
     "text": [
      "[nltk_data] Downloading package stopwords to /home/jovyan/nltk_data...\n",
      "[nltk_data]   Package stopwords is already up-to-date!\n"
     ]
    },
    {
     "data": {
      "text/plain": [
       "True"
      ]
     },
     "execution_count": 17,
     "metadata": {},
     "output_type": "execute_result"
    }
   ],
   "source": [
    "nltk.download('stopwords')"
   ]
  },
  {
   "cell_type": "code",
   "execution_count": 18,
   "id": "e3da3388-9cfc-4dbe-a228-fef6e98085a5",
   "metadata": {},
   "outputs": [],
   "source": [
    "from nltk.corpus import stopwords\n",
    "stopwords =stopwords.words('english')"
   ]
  },
  {
   "cell_type": "code",
   "execution_count": 19,
   "id": "e4bf9a84-4f3f-4909-91f2-790a83a6871d",
   "metadata": {},
   "outputs": [],
   "source": [
    "JaneAusten_count_RBK = JaneAusten_count_RBK.filter(lambda x: x[0] not in stopwords).sortByKey(False)"
   ]
  },
  {
   "cell_type": "code",
   "execution_count": 20,
   "id": "094e8fcf-50cc-4fed-a214-b428b9810cfd",
   "metadata": {},
   "outputs": [
    {
     "data": {
      "text/plain": [
       "[('could', 3751),\n",
       " ('would', 3392),\n",
       " ('mr', 3086),\n",
       " ('mrs', 2522),\n",
       " ('must', 2253),\n",
       " ('said', 2145),\n",
       " ('much', 2028),\n",
       " ('one', 1975),\n",
       " ('miss', 1946),\n",
       " ('every', 1538)]"
      ]
     },
     "execution_count": 20,
     "metadata": {},
     "output_type": "execute_result"
    }
   ],
   "source": [
    "JaneAusten_count_RBK.sortBy(lambda x: x[1],ascending=False).take(10)"
   ]
  },
  {
   "cell_type": "code",
   "execution_count": 52,
   "id": "d0d597f0-ecee-4b1c-9c1f-d3ffaebc352f",
   "metadata": {},
   "outputs": [
    {
     "name": "stdout",
     "output_type": "stream",
     "text": [
      "The number of cores:  1 , Execution time:  0.04850888252258301 seconds\n",
      "The number of cores:  2 , Execution time:  0.04846811294555664 seconds\n",
      "The number of cores:  3 , Execution time:  0.03597831726074219 seconds\n",
      "The number of cores:  4 , Execution time:  0.03419995307922363 seconds\n"
     ]
    }
   ],
   "source": [
    "import time\n",
    "list=[]\n",
    "for i in range(1,5):\n",
    "    j=1\n",
    "    start_time = time.time()\n",
    "    spark=SparkSession.builder.master(\"local[\"+str(j)+\"]\").appName(\"WordCount\").getOrCreate()\n",
    "    sc=spark.sparkContext\n",
    "    JaneAusten=sc.textFile(\"Shakespeare.txt\")\n",
    "    JaneAusten = JaneAusten.map(lower_punc)\n",
    "    JaneAusten=JaneAusten.flatMap(lambda satir: satir.split(\" \"))\n",
    "    JaneAusten = JaneAusten.filter(lambda x:x!='')\n",
    "    JaneAusten_count=JaneAusten.map(lambda  word:(word,1))\n",
    "    JaneAusten_count_RBK=JaneAusten_count.reduceByKey(lambda x,y:(x+y))\n",
    "    print(\"The number of cores: \",i,\", Execution time: \",\"%s seconds\" % (time.time() - start_time))\n",
    "    list.append((time.time() - start_time))"
   ]
  },
  {
   "cell_type": "code",
   "execution_count": 53,
   "id": "7147170e-423d-4fa4-80cd-d2c8cc54d723",
   "metadata": {},
   "outputs": [
    {
     "data": {
      "image/png": "[encoded data removed]",
      "text/plain": [
       "<Figure size 640x480 with 1 Axes>"
      ]
     },
     "metadata": {},
     "output_type": "display_data"
    }
   ],
   "source": [
    "import matplotlib.pyplot as plt\n",
    "core = ['1','2','3','4']\n",
    "plt.plot(core, list,marker = 'o',c='red')\n",
    "plt.xlabel('Cores')\n",
    "plt.ylabel('Execution time')\n",
    "plt.title('The relationship between the number of cores and the execution time')\n",
    "plt.show()"
   ]
  },
  {
   "cell_type": "code",
   "execution_count": null,
   "id": "78b3ef4a-5e4e-4d02-8ab6-0fe5a62d5aaa",
   "metadata": {},
   "outputs": [],
   "source": []
  }
 ],
 "metadata": {
  "kernelspec": {
   "display_name": "Python 3 (ipykernel)",
   "language": "python",
   "name": "python3"
  },
  "language_info": {
   "codemirror_mode": {
    "name": "ipython",
    "version": 3
   },
   "file_extension": ".py",
   "mimetype": "text/x-python",
   "name": "python",
   "nbconvert_exporter": "python",
   "pygments_lexer": "ipython3",
   "version": "3.10.6"
  }
 },
 "nbformat": 4,
 "nbformat_minor": 5
}
